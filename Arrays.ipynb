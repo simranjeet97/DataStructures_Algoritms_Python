{
  "nbformat": 4,
  "nbformat_minor": 0,
  "metadata": {
    "colab": {
      "name": "Arrays.ipynb",
      "provenance": []
    },
    "kernelspec": {
      "name": "python3",
      "display_name": "Python 3"
    }
  },
  "cells": [
    {
      "cell_type": "markdown",
      "metadata": {
        "id": "55zLcjSqZt1h",
        "colab_type": "text"
      },
      "source": [
        "# **FreeBirds Crew**\n",
        "\n",
        "### We Learn and Grow Together\n",
        "\n",
        "<img src=\"https://github.com/FreeBirdsCrew/DataStructures_Python/blob/master/DataStructures.png?raw=true\" alt=\"drawing\" width=\"500\"/>"
      ]
    },
    {
      "cell_type": "markdown",
      "metadata": {
        "id": "Ljs-E1h0dS0Z",
        "colab_type": "text"
      },
      "source": [
        "### **Data Structures**\n",
        "\n",
        "A Certain way of Organizing and Managing the Data in System so that It can be Processed and used effectively is called Data Structures.\n",
        "\n",
        "For example, Storing a list of items having the same data-type using the array data structure.\n",
        "\n",
        "### **Arrays**\n",
        "An array is a collection of items stored at contiguous memory locations. The main function is to store multiple items of the same data type at contigous locations starting from index 0.\n",
        "\n",
        "<img src=\"https://bit.ly/3bvmeUX\" alt=\"drawing\" width=\"500\"/> "
      ]
    },
    {
      "cell_type": "markdown",
      "metadata": {
        "id": "TYq79ABWkSVE",
        "colab_type": "text"
      },
      "source": [
        "### **Properties of Arrays:**\n",
        "\n",
        "\n",
        "\n",
        "*   Arrays stores similar data types. This is one of the limitations of arrays compared to other data structures.\n",
        "*   Each value stored, in an array, is known as an element and all elements are arranged based on index. The first element added, by default, gets 0 index. Others are indexed as so on.\n",
        "\n",
        "*   Elements can be retrieved by their index number.\n",
        "*   Array elements are stored in contiguous (continuous) memory locations.\n",
        "\n",
        "*   At the time of creation itself, array size should be declared (array initialization does not require size).\n",
        "\n",
        "\n",
        "\n",
        "\n",
        "\n"
      ]
    },
    {
      "cell_type": "markdown",
      "metadata": {
        "id": "rIhr5MYilH1z",
        "colab_type": "text"
      },
      "source": [
        "### **Arrays in Python**\n",
        "Python does not have a native support for arrays, but has a more generic data structure called LIST. List provides all the options as array with more functionality. But with few tweaks we can implement Array data structure in Python. Let's See how to do that"
      ]
    },
    {
      "cell_type": "markdown",
      "metadata": {
        "id": "bSlkFHiM0Dl2",
        "colab_type": "text"
      },
      "source": [
        "### Static Array Implementation in Python"
      ]
    },
    {
      "cell_type": "code",
      "metadata": {
        "id": "P7ZEhvmd1wEV",
        "colab_type": "code",
        "colab": {}
      },
      "source": [
        "class Array(object):\n",
        "    #Intialization function that initalize the sizeOfArray and arrayItems method has their respective functions.\n",
        "    def __init__(self, sizeOfArray, arrayType = int):\n",
        "        self.sizeOfArray = len(list(map(arrayType, range(sizeOfArray))))\n",
        "        self.arrayItems =[arrayType(0)] * sizeOfArray    # initialize array with zeroes\n",
        "        \n",
        "    def __str__(self):\n",
        "            return ' '.join([str(i) for i in self.arrayItems])\n",
        "          \n",
        "    # search in aray\n",
        "    # k = key that has to search\n",
        "    def search(self, k):\n",
        "        for i in range(self.sizeOfArray):\n",
        "            if (self.arrayItems[i] == k):\n",
        "                return i     # return index at which key is found\n",
        "            \n",
        "        return -1          # if key not found\n",
        "\n",
        "    # inserting an element in array\n",
        "    def insert(self, keyToInsert, position):\n",
        "        if(self.sizeOfArray > position):\n",
        "            for i in range(self.sizeOfArray - 2, position - 1, -1):\n",
        "                self.arrayItems[i + 1] = self.arrayItems[i]\n",
        "            self.arrayItems[position] = keyToInsert\n",
        "        else:\n",
        "            print('Array size is:', self.sizeOfArray)\n",
        "\n",
        "    # delete an element\n",
        "    def delete(self, keyToDelete, position):\n",
        "        if(self.sizeOfArray > position):\n",
        "            for i in range(position, self.sizeOfArray - 1):\n",
        "                self.arrayItems[i] = self.arrayItems[i + 1]\n",
        "        else:\n",
        "            print('Array size is:', self.sizeOfArray)"
      ],
      "execution_count": null,
      "outputs": []
    },
    {
      "cell_type": "code",
      "metadata": {
        "id": "a9NqwgH0Jf_W",
        "colab_type": "code",
        "colab": {
          "base_uri": "https://localhost:8080/",
          "height": 125
        },
        "outputId": "b8c4c7b0-5b53-43dd-ff85-ce4a6af892ad"
      },
      "source": [
        "arrayItems = [1,4,5,2,6,8,10]\n",
        "pos = 2\n",
        "size = len(arrayItems)\n",
        "item= 91\n",
        "print(arrayItems)\n",
        "if(size > pos):\n",
        "  for i in range(size - 2, pos - 1, -1):\n",
        "    arrayItems[i + 1] = arrayItems[i]\n",
        "    print(arrayItems)\n",
        "  arrayItems[pos] = item\n",
        "\n",
        "print(arrayItems)"
      ],
      "execution_count": null,
      "outputs": [
        {
          "output_type": "stream",
          "text": [
            "[1, 4, 5, 2, 6, 8, 10]\n",
            "[1, 4, 5, 2, 6, 8, 8]\n",
            "[1, 4, 5, 2, 6, 6, 8]\n",
            "[1, 4, 5, 2, 2, 6, 8]\n",
            "[1, 4, 5, 5, 2, 6, 8]\n",
            "[1, 4, 91, 5, 2, 6, 8]\n"
          ],
          "name": "stdout"
        }
      ]
    },
    {
      "cell_type": "code",
      "metadata": {
        "id": "J1XXIvJ83bL4",
        "colab_type": "code",
        "colab": {
          "base_uri": "https://localhost:8080/",
          "height": 35
        },
        "outputId": "663d91b0-cadc-4fa3-cf99-a7d6bd88a578"
      },
      "source": [
        "# Create Array\n",
        "arr = Array(10,int)\n",
        "print(arr)"
      ],
      "execution_count": null,
      "outputs": [
        {
          "output_type": "stream",
          "text": [
            "0 0 0 0 0 0 0 0 0 0\n"
          ],
          "name": "stdout"
        }
      ]
    },
    {
      "cell_type": "markdown",
      "metadata": {
        "id": "MghisJzcw2xo",
        "colab_type": "text"
      },
      "source": [
        "**Array Operations** -\n",
        "\n",
        "1. array(data type, value list) :- This function is used to create an array with data type.\n",
        "2. insert(i,x) :- This function is used to add the value at the position specified in its argument.\n",
        "3. delete(i,x) :- This function is used to delete the value mentioned in its arguments at specific position\n",
        "4. Search(i) :- Search the item in the array and return the index of that item.\n"
      ]
    },
    {
      "cell_type": "code",
      "metadata": {
        "id": "vHwjHwsPWtfA",
        "colab_type": "code",
        "colab": {
          "base_uri": "https://localhost:8080/",
          "height": 35
        },
        "outputId": "49b34b1f-51c9-4949-b5bc-85b17c642caa"
      },
      "source": [
        "#Insert Elements\n",
        "arr.insert(4,2)\n",
        "arr.insert(1,4)\n",
        "arr.insert(5,3)\n",
        "print(arr)"
      ],
      "execution_count": null,
      "outputs": [
        {
          "output_type": "stream",
          "text": [
            "0 0 4 5 0 1 0 0 0 0\n"
          ],
          "name": "stdout"
        }
      ]
    },
    {
      "cell_type": "code",
      "metadata": {
        "id": "jE0oXck4WxHg",
        "colab_type": "code",
        "colab": {
          "base_uri": "https://localhost:8080/",
          "height": 35
        },
        "outputId": "c6074c2c-d310-4462-eab6-2b287866e65b"
      },
      "source": [
        "#Search Element in Array\n",
        "arr.search(4)"
      ],
      "execution_count": null,
      "outputs": [
        {
          "output_type": "execute_result",
          "data": {
            "text/plain": [
              "2"
            ]
          },
          "metadata": {
            "tags": []
          },
          "execution_count": 32
        }
      ]
    },
    {
      "cell_type": "code",
      "metadata": {
        "id": "Fs95s7R3W0lf",
        "colab_type": "code",
        "colab": {}
      },
      "source": [
        "#Delete Element in Array\n",
        "arr.delete(4,2)"
      ],
      "execution_count": null,
      "outputs": []
    },
    {
      "cell_type": "code",
      "metadata": {
        "id": "v5ixUkZgvN5E",
        "colab_type": "code",
        "colab": {
          "base_uri": "https://localhost:8080/",
          "height": 53
        },
        "outputId": "72fa86e7-745e-47df-9984-1dfd9cbad8ac"
      },
      "source": [
        "#End Result\n",
        "print(arr)\n",
        "arr.sizeOfArray"
      ],
      "execution_count": null,
      "outputs": [
        {
          "output_type": "stream",
          "text": [
            "0 0 5 0 1 0 0 0 0 0\n"
          ],
          "name": "stdout"
        },
        {
          "output_type": "execute_result",
          "data": {
            "text/plain": [
              "10"
            ]
          },
          "metadata": {
            "tags": []
          },
          "execution_count": 34
        }
      ]
    },
    {
      "cell_type": "markdown",
      "metadata": {
        "id": "5Cm-FhO2wx7a",
        "colab_type": "text"
      },
      "source": [
        "### Dyanmic Array Implementation in Python"
      ]
    },
    {
      "cell_type": "code",
      "metadata": {
        "id": "DUeclXxJvPDX",
        "colab_type": "code",
        "colab": {}
      },
      "source": [
        "\n",
        "'''\n",
        "ctypes is a foreign function library for Python. It provides C compatible data types, \n",
        "and allows calling functions in DLLs or shared libraries. It can be used to wrap these libraries in pure Python.\n",
        "'''\n",
        "import ctypes \n",
        "\n",
        "  \n",
        "\n",
        "class DArray(): \n",
        "# n is the count of items in array\n",
        "# size is the dafault length of array that is 1 by default.\n",
        "    def __init__(self): \n",
        "      self.n = 0  \n",
        "      self.size = 1  \n",
        "      self.arr = self.createarray(self.size) \n",
        "      \n",
        "    def __len__(self):    \n",
        "      return self.n \n",
        "    \n",
        "    def __getitem__(self, k): #Retrieve the elements as in the [] format, if u want to create function that remove the __\"\n",
        "        if 0 <= k < self.n:\n",
        "          return self.arr[k]  \n",
        "        else:\n",
        "          return IndexError('K is out of bounds !')\n",
        "          \n",
        "    def append(self, data): #Insert element at end of array\n",
        "        if self.n == self.size: \n",
        "          self._resize(2 * self.size)  \n",
        "        \n",
        "        self.arr[self.n] = data # Set self.n index to element \n",
        "        self.n += 1\n",
        "\n",
        "  #Array Operations\n",
        "  \n",
        "    def insert(self,item,index): \n",
        "        if index < 0 or index > self.n: \n",
        "          print(\"Invalid Index\") \n",
        "          return\n",
        "        if self.n == self.size: \n",
        "          self._resize(2*self.size) \n",
        "          \n",
        "        for i in range(self.n-1,index-1,-1): \n",
        "          self.arr[i+1]=self.arr[i] \n",
        "        \n",
        "        self.arr[index]=item \n",
        "        self.n+=1\n",
        "      \n",
        "    def delete(self): #Delete from the End of Array\n",
        "      if self.n==0: \n",
        "        print(\"Array is empty!\")\n",
        "        return\n",
        "      self.arr[self.n-1]=0\n",
        "      self.n-=1\n",
        "\n",
        "    def removeAt(self,index):        \n",
        "      if self.n==0: \n",
        "        print(\"Array is empty!\")\n",
        "        return\n",
        "      if index < 0 or index >=self.n: \n",
        "        return IndexError(\"Index out of bound Error!\")         \n",
        "      if index==self.n-1: \n",
        "        self.arr[index]=0\n",
        "        self.n-=1\n",
        "        return       \n",
        "      for i in range(index,self.n-1): \n",
        "        self.arr[i]=self.arr[i+1]     \n",
        "\n",
        "      self.arr[self.n-1]=0\n",
        "      self.n-=1\n",
        "\n",
        "    def _resize(self, nsize): \n",
        "        arr2 = self.createarray(nsize) # New bigger array \n",
        "          \n",
        "        for k in range(self.n): # Reference all existing values \n",
        "            arr2[k] = self.arr[k] \n",
        "              \n",
        "        self.arr = arr2 # Call A the new bigger array \n",
        "        self.size = nsize # Reset the capacity  \n",
        "\n",
        "    def createarray(self, nsize): \n",
        "      return (nsize * ctypes.py_object)() \n"
      ],
      "execution_count": null,
      "outputs": []
    },
    {
      "cell_type": "code",
      "metadata": {
        "id": "2iABQ14fBLJR",
        "colab_type": "code",
        "colab": {
          "base_uri": "https://localhost:8080/",
          "height": 35
        },
        "outputId": "0eda541a-7153-44a5-e612-4bb1fa27eb3d"
      },
      "source": [
        "#Create Dynamic Array\n",
        "arr = DArray() \n",
        "#Appending element\n",
        "arr.append(3) \n",
        "arr.append(4) \n",
        "#Checking Length\n",
        "len(arr) "
      ],
      "execution_count": null,
      "outputs": [
        {
          "output_type": "execute_result",
          "data": {
            "text/plain": [
              "2"
            ]
          },
          "metadata": {
            "tags": []
          },
          "execution_count": 77
        }
      ]
    },
    {
      "cell_type": "code",
      "metadata": {
        "id": "SxkNY2hABLf7",
        "colab_type": "code",
        "colab": {
          "base_uri": "https://localhost:8080/",
          "height": 53
        },
        "outputId": "68ad427d-014f-417d-a6c3-88dc5e1b83ef"
      },
      "source": [
        "#Print Elements of Array\n",
        "for i in range(len(arr)):\n",
        "  print(arr[i])"
      ],
      "execution_count": null,
      "outputs": [
        {
          "output_type": "stream",
          "text": [
            "3\n",
            "4\n"
          ],
          "name": "stdout"
        }
      ]
    },
    {
      "cell_type": "code",
      "metadata": {
        "id": "aoPlQOuyBLlB",
        "colab_type": "code",
        "colab": {
          "base_uri": "https://localhost:8080/",
          "height": 35
        },
        "outputId": "ae6d30e4-a3cc-4032-cd75-79c602f77d03"
      },
      "source": [
        "#Indexing\n",
        "arr[1]"
      ],
      "execution_count": null,
      "outputs": [
        {
          "output_type": "execute_result",
          "data": {
            "text/plain": [
              "4"
            ]
          },
          "metadata": {
            "tags": []
          },
          "execution_count": 81
        }
      ]
    },
    {
      "cell_type": "code",
      "metadata": {
        "id": "pPUghCf4BLkK",
        "colab_type": "code",
        "colab": {}
      },
      "source": [
        "#Remove Element at Index\n",
        "arr.removeAt(0)"
      ],
      "execution_count": null,
      "outputs": []
    },
    {
      "cell_type": "code",
      "metadata": {
        "id": "Tw21Q82KBLfB",
        "colab_type": "code",
        "colab": {
          "base_uri": "https://localhost:8080/",
          "height": 35
        },
        "outputId": "32c31920-f4e0-46e2-8a41-4705a0c377c3"
      },
      "source": [
        "#Insert\n",
        "arr.insert(6,0)\n",
        "arr[0]"
      ],
      "execution_count": null,
      "outputs": [
        {
          "output_type": "execute_result",
          "data": {
            "text/plain": [
              "6"
            ]
          },
          "metadata": {
            "tags": []
          },
          "execution_count": 89
        }
      ]
    },
    {
      "cell_type": "code",
      "metadata": {
        "id": "yFisjiyRGKSZ",
        "colab_type": "code",
        "colab": {
          "base_uri": "https://localhost:8080/",
          "height": 35
        },
        "outputId": "43197333-2516-47f9-f0b3-5ea598c5858a"
      },
      "source": [
        "arr[1]"
      ],
      "execution_count": null,
      "outputs": [
        {
          "output_type": "execute_result",
          "data": {
            "text/plain": [
              "4"
            ]
          },
          "metadata": {
            "tags": []
          },
          "execution_count": 90
        }
      ]
    },
    {
      "cell_type": "markdown",
      "metadata": {
        "id": "bR-rlDoDBKWB",
        "colab_type": "text"
      },
      "source": [
        "### **Time complexity:**\n",
        "\n",
        "Search: O(n)\n",
        "\n",
        "Insert: O(n)\n",
        "\n",
        "Delete: O(n)\n",
        "\n",
        "Indexing: O(1)"
      ]
    },
    {
      "cell_type": "markdown",
      "metadata": {
        "id": "aXqBpQm3HM46",
        "colab_type": "text"
      },
      "source": [
        "### **Arrays in Python (In-Built Library)**\n",
        "Python has it's in-built library called Arrays, you can use that for implementation of arrays in python.\n",
        "\n",
        "Arrays in Python Data Types - \n",
        "\n",
        "<img src=\"https://github.com/FreeBirdsCrew/DataStructures_Python/blob/master/ArrysDTypes.png?raw=true\" alt=\"drawing\" width=\"500\"/>\n",
        "\n",
        "\n"
      ]
    },
    {
      "cell_type": "code",
      "metadata": {
        "id": "2XyoI4lwBKro",
        "colab_type": "code",
        "colab": {
          "base_uri": "https://localhost:8080/",
          "height": 107
        },
        "outputId": "080ca2f6-8a2a-4919-c844-7594ef8ef769"
      },
      "source": [
        "# import 'array' \n",
        "import array\n",
        "\n",
        "# initialize the array with datatype and elements\n",
        "arr = array.array('i', [1, 2, 3, 4, 5]) \n",
        "\n",
        "#Print the Array\n",
        "print (\"Array : \",end=\"\")\n",
        "for i in range (0, 5):\n",
        "    print (arr[i], end=\" \")\n",
        "\n",
        "#Appending Value in Array\n",
        "arr.append(6);\n",
        "\n",
        "#Print the Modified Array\n",
        "print (\"\\nAppended Array : \", end=\"\")\n",
        "for i in range (0, 6):\n",
        "    print (arr[i], end=\" \")\n",
        "\n",
        "#Inserting Item at Specific Position\n",
        "#inserts 10 at 3nd position\n",
        "arr.insert(3,10)\n",
        "\n",
        "#Print the Inserted Array\n",
        "print (\"\\nArray After Insertion : \", end=\"\")\n",
        "for i in range (0, 7):\n",
        "    print (arr[i], end=\" \")\n",
        "    \n",
        "#Remove the Item   \n",
        "arr.remove(1)\n",
        "\n",
        "#Print the Array After Deletion\n",
        "print (\"\\nThe array after deletion is : \", end=\"\")\n",
        "for i in range (0, 6):\n",
        "    print (arr[i], end=\" \")\n",
        "\n",
        "#Reverse the Array\n",
        "arr.reverse()\n",
        "print (\"\\nThe Reversed : \", end=\"\")\n",
        "for i in range (0, 6):\n",
        "    print (arr[i], end=\" \")\n"
      ],
      "execution_count": null,
      "outputs": [
        {
          "output_type": "stream",
          "text": [
            "Array : 1 2 3 4 5 \n",
            "Appended Array : 1 2 3 4 5 6 \n",
            "Array After Insertion : 1 2 3 10 4 5 6 \n",
            "The array after deletion is : 2 3 10 4 5 6 \n",
            "The Reversed : 6 5 4 10 3 2 "
          ],
          "name": "stdout"
        }
      ]
    },
    {
      "cell_type": "markdown",
      "metadata": {
        "id": "lE72vS8KL8Hb",
        "colab_type": "text"
      },
      "source": [
        "### **Disadvantages of Array** -\n",
        "\n",
        "**Fixed size:** The size of the array is static (specify the array size before using it, this can be overcome using Dynamic Arrays).\n",
        "\n",
        "**One block allocation:** To allocate the array itself at the beginning, sometimes it is not be possible to get the memory for the array because sometimes the array is big.\n",
        "\n",
        "**Complex position-based insertion:** If we want to insert an element at a given position, we need to shift the rest of the elements.This required time and resources to be acomplished. If the position at which we want to add an element is at the beginning, the complexity increases with more items needs to be shifted"
      ]
    },
    {
      "cell_type": "code",
      "metadata": {
        "id": "fjEqic7nyh69",
        "colab_type": "code",
        "colab": {
          "base_uri": "https://localhost:8080/",
          "height": 161
        },
        "outputId": "136f8649-413b-4e4f-f8c9-9cea755a10a5"
      },
      "source": [
        "lst = [1,2,4,5,51,34,21,7,8,50]\n",
        "print(lst)\n",
        "for i in range(3,len(lst)-1): \n",
        "        lst[i]=lst[i+1]\n",
        "        print(lst)\n",
        "\n",
        "lst[len(lst)-1]=0   \n",
        "print(lst)"
      ],
      "execution_count": null,
      "outputs": [
        {
          "output_type": "stream",
          "text": [
            "[1, 2, 4, 5, 51, 34, 21, 7, 8, 50]\n",
            "[1, 2, 4, 51, 51, 34, 21, 7, 8, 50]\n",
            "[1, 2, 4, 51, 34, 34, 21, 7, 8, 50]\n",
            "[1, 2, 4, 51, 34, 21, 21, 7, 8, 50]\n",
            "[1, 2, 4, 51, 34, 21, 7, 7, 8, 50]\n",
            "[1, 2, 4, 51, 34, 21, 7, 8, 8, 50]\n",
            "[1, 2, 4, 51, 34, 21, 7, 8, 50, 50]\n",
            "[1, 2, 4, 51, 34, 21, 7, 8, 50, 0]\n"
          ],
          "name": "stdout"
        }
      ]
    },
    {
      "cell_type": "markdown",
      "metadata": {
        "id": "yffEiespPEF7",
        "colab_type": "text"
      },
      "source": [
        "### **Programs on Arrays that Mostly Assked in Interviews**\n",
        "1. Find Missing Value in Array\n",
        "2. Array Rotation\n",
        "3. Odd Occurances of Numbers\n",
        "4. Check for Pair Sum "
      ]
    },
    {
      "cell_type": "markdown",
      "metadata": {
        "id": "lG_OL992PEXE",
        "colab_type": "text"
      },
      "source": [
        "#### **Finding Missing Value in Array**\n",
        "\n",
        "**Logic** - The length of the array is n-1. \n",
        "So the sum of all n elements, i.e sum of numbers from 1 to n can be calculated using the formula n*(n+1)/2. Now find the sum of all the elements in the array and subtract it from the sum of first n natural numbers, it will be the value of the missing element."
      ]
    },
    {
      "cell_type": "code",
      "metadata": {
        "id": "P8MCmM01-vgL",
        "colab_type": "code",
        "colab": {
          "base_uri": "https://localhost:8080/",
          "height": 35
        },
        "outputId": "48f29180-e387-46fb-cce6-ddca28a62613"
      },
      "source": [
        "def getMissingNumber(arr):\n",
        "    n = len(arr)\n",
        "    natural_sum = (n + 1)*(n + 2)/2\n",
        "    sum_of_arr = sum(arr)\n",
        "    return natural_sum - sum_of_arr\n",
        " \n",
        "# Driver program to test the above function\n",
        "arr = [1, 2, 3, 5, 6]\n",
        "n = getMissingNumber(arr)\n",
        "print(n)"
      ],
      "execution_count": null,
      "outputs": [
        {
          "output_type": "stream",
          "text": [
            "4.0\n"
          ],
          "name": "stdout"
        }
      ]
    },
    {
      "cell_type": "markdown",
      "metadata": {
        "id": "PmUSo9v5V2NY",
        "colab_type": "text"
      },
      "source": [
        "#### **Array Rotation**\n",
        "\n",
        "**Logic** - To rotate by one, store arr[0] in a temp variable, move arr[1] to arr[0], arr[2] to arr[1] … and finally temp to arr[n-1]\n",
        "\n",
        "Let us take the same example arr[] = [1, 2, 3, 4, 5, 6, 7], d = 2\n",
        "\n",
        "Rotate arr[] by one 2 times\n",
        "\n",
        "We get [2, 3, 4, 5, 6, 7, 1] after first rotation and [ 3, 4, 5, 6, 7, 1, 2] after second rotation"
      ]
    },
    {
      "cell_type": "code",
      "metadata": {
        "id": "S5id1DVTVGe3",
        "colab_type": "code",
        "colab": {
          "base_uri": "https://localhost:8080/",
          "height": 71
        },
        "outputId": "04ab9e50-f78d-41da-ebda-1a3639cd4f30"
      },
      "source": [
        "# Function to left rotate arr of size n by t\n",
        "def leftRotate(arr, t, n): \n",
        "    for i in range(t): \n",
        "        leftRotatebyOne(arr, n) \n",
        "  \n",
        "# Function to left Rotate arr[] of size n by 1  \n",
        "def leftRotatebyOne(arr, n): \n",
        "    temp = arr[0] \n",
        "    for i in range(n-1): \n",
        "        arr[i] = arr[i + 1] \n",
        "    arr[n-1] = temp \n",
        "          \n",
        "arr = [1, 2, 3, 4, 5, 6, 7] \n",
        "#Original Array\n",
        "print(\"Orriginal Arrays :\",end=\" \")\n",
        "for i in range(size):\n",
        "  print(arr[i], end =\" \") \n",
        "\n",
        "\n",
        "size = len(arr)\n",
        "leftRotate(arr, 2, 7) \n",
        "#Rotated Array\n",
        "print(\"\\nLeft Rotated Arrays :\",end=\" \")\n",
        "for i in range(size):\n",
        "  print(arr[i], end =\" \") \n",
        "\n",
        "\n",
        "def rightRotate(arr, n):\n",
        "  return arr[-n:] + arr[:-n]\n",
        "\n",
        "arr2 = [1,4,2,6,7,8,5]\n",
        "print(\"\\nRight Rotation :\",*rightRotate(arr2,3),end= \" \")"
      ],
      "execution_count": null,
      "outputs": [
        {
          "output_type": "stream",
          "text": [
            "Orriginal Arrays : 1 2 3 4 5 6 7 \n",
            "Left Rotated Arrays : 3 4 5 6 7 1 2 \n",
            "Right Rotation : 7 8 5 1 4 2 6 "
          ],
          "name": "stdout"
        }
      ]
    },
    {
      "cell_type": "markdown",
      "metadata": {
        "id": "KAlzYF7-3LZ_",
        "colab_type": "text"
      },
      "source": [
        "#### **ODD Occurances of Numbers**\n",
        "\n",
        "**Problem** - Given an array of positive integers. All numbers occur even number of times except one, number which occurs odd number of times. Finding the number in O(n) time & constant space.\n",
        "\n",
        "**Logic** -  XOR of all elements gives us odd occurring element. Please note that XOR of two elements, is 0 if both elements are same and XOR of a number x with 0 is x."
      ]
    },
    {
      "cell_type": "code",
      "metadata": {
        "id": "yrF1J4z9WZsz",
        "colab_type": "code",
        "colab": {
          "base_uri": "https://localhost:8080/",
          "height": 35
        },
        "outputId": "2bca8a4f-490f-4b78-c34c-2592daf716ca"
      },
      "source": [
        "def printOddOccurences(array):\n",
        "    odd = 0\n",
        "    for oddnum in array:\n",
        "        # XOR Applied\n",
        "        odd = odd ^ oddnum\n",
        "\n",
        "    return odd\n",
        "\n",
        "if __name__ == '__main__':\n",
        "    myArr = [3, 4, 1, 2, 4, 1, 2, 5, 4, 4, 6, 5, 3]\n",
        "    print(printOddOccurences(myArr))"
      ],
      "execution_count": null,
      "outputs": [
        {
          "output_type": "stream",
          "text": [
            "6\n"
          ],
          "name": "stdout"
        }
      ]
    },
    {
      "cell_type": "markdown",
      "metadata": {
        "id": "1YNRqcE46gQG",
        "colab_type": "text"
      },
      "source": [
        "#### **Pair Sum**\n",
        "\n",
        "**Problem** - Given an array A[] of n numbers and another number x, determines whether or not there exist two elements in A[] whose sum is exactly x.\n",
        "\n",
        "**Logic** - We Use Merger Sort Because Worst case Time complexity of Quick Sort is O(n^2) whereas Worst Case Complexity of Merge Sort is O(nlog(n))\n",
        "\n",
        "```\n",
        "`# This is formatted as code`\n",
        "```\n",
        "\n",
        "\n"
      ]
    },
    {
      "cell_type": "code",
      "metadata": {
        "id": "GhqmHHbG3z8T",
        "colab_type": "code",
        "colab": {
          "base_uri": "https://localhost:8080/",
          "height": 35
        },
        "outputId": "98111e0d-a01d-4824-8656-9cc2e1f24c2b"
      },
      "source": [
        "def PairSum(array, sum):\n",
        "    array = sorted(array)\n",
        "\n",
        "    leftIndex = 0\n",
        "    rightIndex = len(array) - 1\n",
        "\n",
        "    while leftIndex < rightIndex:\n",
        "        if (array[leftIndex] + array[rightIndex] ==  sum):\n",
        "            return array[leftIndex], array[rightIndex]\n",
        "        elif(array[leftIndex] + array[rightIndex] < sum):\n",
        "            leftIndex += 1\n",
        "        else:\n",
        "            rightIndex += 1\n",
        "\n",
        "    return False, False\n",
        "\n",
        "\n",
        "if __name__ == '__main__':\n",
        "    myArr = [10, 30, 20, 50, 40]\n",
        "    sum = 80\n",
        "\n",
        "    num1, num2 = PairSum(myArr, sum)\n",
        "    if(num1 and num2):\n",
        "        print('Elements:', num1, 'and', num2, 'with sum:', sum)\n",
        "    else:\n",
        "        print('No Elements Found with Sum:', sum)"
      ],
      "execution_count": null,
      "outputs": [
        {
          "output_type": "stream",
          "text": [
            "Elements: 30 and 50 with sum: 80\n"
          ],
          "name": "stdout"
        }
      ]
    },
    {
      "cell_type": "code",
      "metadata": {
        "id": "rHu-PWX88ELn",
        "colab_type": "code",
        "colab": {}
      },
      "source": [
        "\n"
      ],
      "execution_count": null,
      "outputs": []
    }
  ]
}