{
  "nbformat": 4,
  "nbformat_minor": 0,
  "metadata": {
    "colab": {
      "name": "Stacks.ipynb",
      "provenance": [],
      "collapsed_sections": []
    },
    "kernelspec": {
      "name": "python3",
      "display_name": "Python 3"
    }
  },
  "cells": [
    {
      "cell_type": "markdown",
      "metadata": {
        "id": "9BfyADmSOdB1"
      },
      "source": [
        "# **FreeBirds Crew**\n",
        "\n",
        "### We Learn and Grow Together\n",
        "\n",
        "<img src=\"https://drive.google.com/uc?export=view&id=1reciCAdssIhi1y9EoBddRTMTTNg_ZRLk\" alt =\"drawing\" width=\"500\"/>"
      ]
    },
    {
      "cell_type": "markdown",
      "metadata": {
        "id": "FQz3PMQKOkZ3"
      },
      "source": [
        "### **Stacks**\n",
        "A Stack is an Abstract Data Type, Serves as a Collection of elements.\n",
        "It has two Principals -\n",
        "1. Push\n",
        "2. Pop\n",
        "**Push**,which adds an element to the collection, and **Pop**, which removes the most recently added element. \n",
        "\n",
        "Stacks uses the *LIFO(Last in First Out)* Principal that defines as, the order of elements in which they are added in stack the last element is present at the top of the Stack.\n",
        "\n",
        "### **Conditions in Stacks**\n",
        "Stacks has Bounded Capacity such that If the Stack is Full, not have enough space to add more elements then that condition is called **OverFlow**, Similiarly if the Stack has no Elements Such that No Element Can be Popped Out then the Condition is Called **UnderFlow**.\n",
        "\n",
        "\n",
        "<img src=\"https://www.tutorialspoint.com/data_structures_algorithms/images/stack_representation.jpg\" alt =\"drawing\" width=\"500\"/>"
      ]
    },
    {
      "cell_type": "markdown",
      "metadata": {
        "id": "MVgcUvV3W8mn"
      },
      "source": [
        "## Topics that are Covered in this Session - \n",
        "1. Stack Implementation using Python\n",
        "2. Stack Implementation using Linked List\n",
        "3. Check if given expression is balanced expression or not\n",
        "4. Find duplicate parenthesis in an expression\n",
        "5. Decode the given sequence to construct minimum number without repeated digits\n",
        "6. Inorder Tree Traversal | Iterative & Recursive\n",
        "7. Preorder Tree Traversal | Iterative & Recursive\n",
        "10. Postorder Tree Traversal | Iterative & Recursive"
      ]
    },
    {
      "cell_type": "markdown",
      "metadata": {
        "id": "Wai3fYTFnriZ"
      },
      "source": [
        "### **Stack Implementation in Python**\n",
        "\n",
        "The main functions that needs to be implemented are - \n",
        "\n",
        "1. empty() – Returns if the stack is empty – Time Complexity : O(1)\n",
        "2. size() – Returns the size of the stack – Time Complexity : O(1)\n",
        "3. top() – Returns a reference to the top element of the stack – Time Complexity : O(1)\n",
        "4. push(g) – Adds the element ‘g’ at the top of the stack – Time Complexity : O(1)\n",
        "5. pop() – Deletes the top element of the stack – Time Complexity : O(1)\n",
        "\n",
        "<img src=\"https://cdn.programiz.com/sites/tutorial2program/files/stack.png\" alt =\"drawing\" width=\"500\"/>\n",
        "\n",
        "\n",
        "\n",
        "\n",
        "We can Implement Stacks in Python by using following Techniques - \n",
        "1. List\n",
        "2. Collections.deque\n",
        "3. Queue.LifoQueue"
      ]
    },
    {
      "cell_type": "markdown",
      "metadata": {
        "id": "Q6W6BfeCo2qK"
      },
      "source": [
        "#### **Stacks using List**\n",
        "Python has build-in Data Structure called **List**, that has **append()** method so we use that instead of **push() and pop()** method that is used to remove elements from **stack** that is also available in Lists and Works in **LIFO Order**. Time Compelexity of LIST Operations are O(n)\n",
        "\n",
        "**NOTE** - Unfortunately, List has a some disadvantages as well. The biggest issue is that there comes speed issues if the size of the list grows. The items that are stored in list are placed next to each other in memory if the size grows and more items need to added then python has to do some **Memory Allocations**, due to which the append() operations take more time then ususal."
      ]
    },
    {
      "cell_type": "code",
      "metadata": {
        "id": "LhsCNbNmOezK",
        "outputId": "fc5aefa6-26a0-4081-82f5-b4866833416c",
        "colab": {
          "base_uri": "https://localhost:8080/",
          "height": 233
        }
      },
      "source": [
        "print(\"Making Stack using List\")\n",
        "stack = [] \n",
        "print(stack)  \n",
        "# append() function of list used in place of push() function of Stack that add elements in Stack \n",
        "stack.append('Subscribe') \n",
        "stack.append('FreeBirds Crew') \n",
        "stack.append('Youtube') \n",
        "  \n",
        "print('Adding Elements....') \n",
        "print(stack)\n",
        "  \n",
        "# pop() fucntion of list is same as pop() function in stack that works in LIFO Order. \n",
        "print('\\nPopped Elements are: ') \n",
        "print(stack.pop()) \n",
        "print(stack.pop()) \n",
        "print(stack.pop()) \n",
        "  \n",
        "print('\\nStack gives Index Error of we Try to Pop from the Empty Stack...') \n",
        "print(stack)"
      ],
      "execution_count": null,
      "outputs": [
        {
          "output_type": "stream",
          "text": [
            "Making Stack using List\n",
            "[]\n",
            "Adding Elements....\n",
            "['Subscribe', 'FreeBirds Crew', 'Youtube']\n",
            "\n",
            "Popped Elements are: \n",
            "Youtube\n",
            "FreeBirds Crew\n",
            "Subscribe\n",
            "\n",
            "Stack gives Index Error of we Try to Pop from the Empty Stack...\n",
            "[]\n"
          ],
          "name": "stdout"
        }
      ]
    },
    {
      "cell_type": "markdown",
      "metadata": {
        "id": "WtP3B2RWs4TV"
      },
      "source": [
        "#### **Stacks using Collections.deque**\n",
        "Let's Implement the Stack using DEQUE Class of Collections Module. DEQUE is better then LIST When we need Quick Append and Pop Opertions from both Ends of the Container. DEQUE has O(1) Time Complexity for append() and pop() as Compared to the LIST which that O(n) Time Complexity.\n",
        "Same methods on deque as seen in list are used, append() and pop()."
      ]
    },
    {
      "cell_type": "code",
      "metadata": {
        "id": "OEMRzxpLq5uT",
        "outputId": "aa0b872e-45d7-4eab-f24c-4232b8a59bcd",
        "colab": {
          "base_uri": "https://localhost:8080/",
          "height": 233
        }
      },
      "source": [
        "from collections import deque \n",
        "\n",
        "print(\"Building Stack using Deque Class of Collections Module....\")  \n",
        "stack = deque() \n",
        "print(stack)\n",
        "  \n",
        "# append() function of list used in place of push() function of Stack that add elements in Stack \n",
        "stack.append('a') \n",
        "stack.append('b') \n",
        "stack.append('c') \n",
        "  \n",
        "print('Adding Elements....') \n",
        "print(stack) \n",
        "  \n",
        "# pop() fucntion of list is same as pop() function in stack that works in LIFO Order.  \n",
        "print('\\nPopped Elements are: ') \n",
        "print(stack.pop()) \n",
        "print(stack.pop()) \n",
        "print(stack.pop()) \n",
        "  \n",
        "print('\\nStack gives Index Error of we Try to Pop from the Empty Stack...') \n",
        "print(stack) \n"
      ],
      "execution_count": null,
      "outputs": [
        {
          "output_type": "stream",
          "text": [
            "Building Stack using Deque Class of Collections Module....\n",
            "deque([])\n",
            "Adding Elements....\n",
            "deque(['a', 'b', 'c'])\n",
            "\n",
            "Popped Elements are: \n",
            "c\n",
            "b\n",
            "a\n",
            "\n",
            "Stack gives Index Error of we Try to Pop from the Empty Stack...\n",
            "deque([])\n"
          ],
          "name": "stdout"
        }
      ]
    },
    {
      "cell_type": "markdown",
      "metadata": {
        "id": "CqyIpIm-uYDM"
      },
      "source": [
        "#### **Stacks using Queue.LifoQueue**\n",
        "QUEUE module has a LIFO Queue, which is a Stack. Data is inserted into Queue using put() function and get() takes data out from the Queue.\n",
        "There are various functions present in this module:\n",
        "1. maxsize – Number of items allowed in the queue.\n",
        "2. empty() – Return True if the queue is empty, False otherwise.\n",
        "3. full() – Return True if there are maxsize items in the queue. If the queue was initialized with maxsize=0 (the default), then full() never returns True.\n",
        "4. get() – Remove and return an item from the queue. If queue is empty, wait until an item is available.\n",
        "5. get_nowait() – Return an item if one is immediately available, else raise QueueEmpty.\n",
        "6. put(item) – Put an item into the queue. If the queue is full, wait until a free slot is available before adding the item.\n",
        "7. put_nowait(item) – Put an item into the queue without blocking.\n",
        "8. qsize() – Return the number of items in the queue. If no free slot is immediately available, raise QueueFull. [Source](https://www.geeksforgeeks.org)"
      ]
    },
    {
      "cell_type": "code",
      "metadata": {
        "id": "PHjNOAIVuKA9",
        "outputId": "c2ff15f7-85b3-4000-ce7e-3733e69f32c8",
        "colab": {
          "base_uri": "https://localhost:8080/",
          "height": 251
        }
      },
      "source": [
        "from queue import LifoQueue \n",
        "\n",
        "print(\"Making the Stack using LifoQueue...\")\n",
        "stack = LifoQueue(maxsize = 3) \n",
        "print(stack)\n",
        "\n",
        "# qsize() is the function that shows the size of the stack \n",
        "print(stack.qsize()) \n",
        "   \n",
        "# put() function is used to add elements in the Stack\n",
        "print(\"Adding Elements in Stack ....\")\n",
        "stack.put('a') \n",
        "stack.put('b') \n",
        "stack.put('c') \n",
        "  \n",
        "print(\"Check if it's Full: \", stack.full())  \n",
        "print(\"Size of the Stack: \", stack.qsize())  \n",
        "  \n",
        "# get() fucntion is used to Pop Elements from the Stack.\n",
        "print('\\nPop Elements from the Stack ....') \n",
        "print(stack.get()) \n",
        "print(stack.get()) \n",
        "print(stack.get()) \n",
        "  \n",
        "print(\"\\nEmpty Stack: \", stack.empty())"
      ],
      "execution_count": null,
      "outputs": [
        {
          "output_type": "stream",
          "text": [
            "Making the Stack using LifoQueue...\n",
            "<queue.LifoQueue object at 0x7f9c663a8358>\n",
            "0\n",
            "Adding Elements in Stack ....\n",
            "Check if it's Full:  True\n",
            "Size of the Stack:  3\n",
            "\n",
            "Pop Elements from the Stack ....\n",
            "c\n",
            "b\n",
            "a\n",
            "\n",
            "Empty Stack:  True\n"
          ],
          "name": "stdout"
        }
      ]
    },
    {
      "cell_type": "markdown",
      "metadata": {
        "id": "0ZoJNrOV8L_g"
      },
      "source": [
        "### **Stack Implementation using Linked List**\n",
        "\n",
        "Let's Implement Stack using Linked List in Such a Way that A Stack is then a Pointer to the \"Head\" of the List where Pushing and Popping Operations Happens at the Head of the List, Counter is also Track the Size of the List.\n",
        "\n",
        "**NOTE** - Advantage of Linked List is that, we can make a Dynamic Change in Size of Stack, and memory is also dynamically allocated so Stack Overflow cannot happen unless memory is exhausted. \n"
      ]
    },
    {
      "cell_type": "code",
      "metadata": {
        "id": "Rxq2UKjj6PTP",
        "outputId": "89855cf0-d9c2-403e-e224-06b37df157b2",
        "colab": {
          "base_uri": "https://localhost:8080/",
          "height": 161
        }
      },
      "source": [
        "# Stack Class\n",
        "class Node:\n",
        "\tdef __init__(self, key, next=None):\n",
        "\t\tself.key = key\n",
        "\t\tself.next = next\n",
        "\n",
        "\n",
        "class Stack:\n",
        "\tdef __init__(self):\n",
        "\t\tself.top = None\n",
        "\n",
        "  # Adding Elements in Stack using Push Operations\n",
        "\tdef push(self, x):\n",
        "\n",
        "\t\t# Allocate the new node in the heap\n",
        "\t\tnode = Node(x)\n",
        "\t\t# Check if stack is full, if not then add Element\n",
        "\t\tif node is None:\n",
        "\t\t\tprint(\"Heap Overflow\", end='')\n",
        "\t\t\treturn\n",
        "\t\tprint(\"Inserting ...\", x)\n",
        "\t\t# set the data in allocated node\n",
        "\t\tnode.data = x\n",
        "\t\t# Set the .next pointer of the new node to point to the current top node of the list\n",
        "\t\tnode.next = self.top\n",
        "\t\t# update top pointer\n",
        "\t\tself.top = node\n",
        "\n",
        "\t# Function to check if the stack is empty or not\n",
        "\tdef isEmpty(self):\n",
        "\t\treturn self.top is None\n",
        "\n",
        "\t# Function to return top element in a stack\n",
        "\tdef peek(self):\n",
        "\n",
        "\t\t# check for empty stack\n",
        "\t\tif not self.isEmpty():\n",
        "\t\t\treturn self.top.data\n",
        "\t\telse:\n",
        "\t\t\tprint(\"Stack is empty\")\n",
        "\t\t\treturn -1\n",
        "\n",
        "\t# Function to pop top element from the stack\n",
        "\tdef pop(self):  # remove at the beginning\n",
        "\n",
        "\t\t# Check for stack Underflow\n",
        "\t\tif self.top is None:\n",
        "\t\t\tprint(\"Stack Underflow\", end='')\n",
        "\t\t\treturn\n",
        "\n",
        "\t\tprint(\"Removing ...\", self.peek())\n",
        "\n",
        "\t\t# update the top pointer to point to the next node\n",
        "\t\tself.top = self.top.next\n",
        "\n",
        "\n",
        "if __name__ == '__main__':\n",
        "\n",
        "\tstack = Stack()\n",
        "\n",
        "\tstack.push(1)\n",
        "\tstack.push(2)\n",
        "\tstack.push(3)\n",
        "\n",
        "\tprint(\"Top element is: \", stack.peek())\n",
        "\n",
        "\tstack.pop()\n",
        "\tstack.pop()\n",
        "\tstack.pop()\n",
        "\n",
        "\tif stack.isEmpty():\n",
        "\t\tprint(\"Stack is empty\")\n",
        "\telse:\n",
        "\t\tprint(\"Stack is not empty\")"
      ],
      "execution_count": null,
      "outputs": [
        {
          "output_type": "stream",
          "text": [
            "Inserting ... 1\n",
            "Inserting ... 2\n",
            "Inserting ... 3\n",
            "Top element is:  3\n",
            "Removing ... 3\n",
            "Removing ... 2\n",
            "Removing ... 1\n",
            "Stack is empty\n"
          ],
          "name": "stdout"
        }
      ]
    },
    {
      "cell_type": "markdown",
      "metadata": {
        "id": "uzGZii1c_zxx"
      },
      "source": [
        "### **Check if Given Expression is Balanced Expression or Not**\n",
        "\n",
        "<img src=\"https://drive.google.com/uc?export=view&id=1-Frjs0_9Trap-ugHVOqpG5CpnFtXiyFm\" alt =\"drawing\" width=\"500\"/>\n",
        "\n"
      ]
    },
    {
      "cell_type": "code",
      "metadata": {
        "id": "ItvQHcCw8OV8",
        "outputId": "a1daa15c-eceb-403b-c908-72dc31fc8337",
        "colab": {
          "base_uri": "https://localhost:8080/",
          "height": 35
        }
      },
      "source": [
        "from collections import deque\n",
        "\n",
        "\n",
        "# Function to Check if the Expression is Balanced or not\n",
        "def CheckExpression(exp):\n",
        "\n",
        "\t# Check that the Length of the Expression is Even\n",
        "\tif len(exp) & 1:\n",
        "\t\treturn False\n",
        "\n",
        "\t# Make a Stack using DEQUE\n",
        "\tstack = deque()\n",
        "\n",
        "\t# Let's Start Traversing\n",
        "\tfor ch in exp:\n",
        "\n",
        "\t\t# Append into the Stack when Found Open Braces\n",
        "\t\tif ch == '(' or ch == '{' or ch == '[':\n",
        "\t\t\tstack.append(ch)\n",
        "\n",
        "\t\t# Find the Close Braces\n",
        "\t\tif ch == ')' or ch == '}' or ch == ']':\n",
        "\t\t\t# return false if mismatch is found\n",
        "\t\t\tif not stack:\n",
        "\t\t\t\treturn False\n",
        "\n",
        "\t\t\t# pop character from the stack\n",
        "\t\t\ttop = stack.pop()\n",
        "\n",
        "\t\t\t# if the popped character if not an opening brace or does not pair\n",
        "\t\t\t\n",
        "\t\t\tif (top == '(' and ch != ')') or (top == '{' and ch != '}' or\n",
        "\t\t\t\t\t\t\t\t\t\t\t  (top == '[' and ch != ']')):\n",
        "\t\t\t\treturn False\n",
        "\n",
        "\t# expression is balanced only if stack is empty at this point\n",
        "\treturn not stack\n",
        "\n",
        "if __name__ == '__main__':\n",
        "\n",
        "\texp = \"{()}[{}\"\n",
        "\n",
        "\tif CheckExpression(exp):\n",
        "\t\tprint(\"The expression is balanced\")\n",
        "\telse:\n",
        "\t\tprint(\"The expression is not balanced\")\n"
      ],
      "execution_count": null,
      "outputs": [
        {
          "output_type": "stream",
          "text": [
            "The expression is not balanced\n"
          ],
          "name": "stdout"
        }
      ]
    },
    {
      "cell_type": "markdown",
      "metadata": {
        "id": "ocNC9pXOMN6F"
      },
      "source": [
        "### **Find the Duplicate Parenthesis in an Expression**\n",
        "\n",
        "Like -\n",
        "\n",
        "**Input**  - ((x+y))+z\n",
        "\n",
        "**Output** - Duplicate Found \n",
        "\n",
        "\n",
        "**Input**  - (x+y)\n",
        "\n",
        "**Output** - Duplicate not Found \n"
      ]
    },
    {
      "cell_type": "code",
      "metadata": {
        "id": "vIqiOdMP_3zy",
        "outputId": "f69898a9-e6b1-446e-e429-95d71696723b",
        "colab": {
          "base_uri": "https://localhost:8080/",
          "height": 35
        }
      },
      "source": [
        "from collections import deque\n",
        "\n",
        "def FindDupParenthesis(exp):\n",
        "\n",
        "\tif len(exp) <= 3:\n",
        "\t\treturn False\n",
        "\n",
        "\tstack = deque()\n",
        "\n",
        "\tfor c in exp:\n",
        "\t\t# if current in the expression is a not a closing parenthesis\n",
        "\t\tif c != ')':\n",
        "\t\t\tstack.append(c)\n",
        "\t\t# if current in the expression is a closing parenthesis\n",
        "\t\telse:\n",
        "\t\t\t# if we top element in the stack is an opening parenthesis,\n",
        "\t\t\t\n",
        "\t\t\tif stack[-1] == '(':\n",
        "\t\t\t\treturn True\n",
        "\n",
        "\t\t\t# pop till '(' is found for current ')'\n",
        "\t\t\twhile stack[-1] != '(':\n",
        "\t\t\t\tstack.pop()\n",
        "\n",
        "\t\t\t# pop '('\n",
        "\t\t\tstack.pop()\n",
        "\n",
        "\t# if we reach here, then the expression does not have any duplicate parenthesis\n",
        "\treturn False\n",
        "\n",
        "\n",
        "if __name__ == '__main__':\n",
        "\n",
        "\texp = \"((x+y))\"  # assumes valid expression\n",
        "\n",
        "\tif FindDupParenthesis(exp):\n",
        "\t\tprint(\"The expression have duplicate parenthesis.\")\n",
        "\telse:\n",
        "\t\tprint(\"The expression does not have duplicate parenthesis\")\n"
      ],
      "execution_count": null,
      "outputs": [
        {
          "output_type": "stream",
          "text": [
            "The expression have duplicate parenthesis.\n"
          ],
          "name": "stdout"
        }
      ]
    },
    {
      "cell_type": "markdown",
      "metadata": {
        "id": "zq0aXwRAhgtH"
      },
      "source": [
        "### **Decode the given sequence to construct minimum number without repeated digits**\n",
        "\n",
        "**Sequences -> Output**\n",
        "\n",
        "IIDDIDID -> 125437698\n",
        "\n",
        "DDDD -> 54321 \n",
        "\n",
        "I denotes the 'Increasing Sequences' and D denotes the 'Decreasing Sequences', Decode it to construct the minimum number without Repeating digits."
      ]
    },
    {
      "cell_type": "code",
      "metadata": {
        "id": "9kOqCCPOHBDv",
        "outputId": "13ab328f-4a6b-4450-cae9-be26a40c6e09",
        "colab": {
          "base_uri": "https://localhost:8080/",
          "height": 35
        }
      },
      "source": [
        "from collections import deque\n",
        "\n",
        "# Function to decode the given sequence to construct minimum number\n",
        "# without repeated digits\n",
        "def decode(seq):\n",
        "  result = \"\"\n",
        "  stack = deque()\n",
        "\n",
        "  for i in range(len(seq) + 1):\n",
        "    stack.append(i + 1)\n",
        "    #print(stack)\n",
        "\n",
        "    if i == len(seq) or seq[i] == 'I':\n",
        "      while stack:\n",
        "        result += str(stack.pop())\n",
        "    #print(result)\n",
        "  return result\n",
        "  \n",
        "\n",
        "if __name__ == '__main__':\n",
        "\n",
        "\tseq = \"DIIDII\"\t# input sequence\n",
        "\n",
        "\tprint(\"Minimum number is\", decode(seq))\n"
      ],
      "execution_count": null,
      "outputs": [
        {
          "output_type": "stream",
          "text": [
            "Minimum number is 2135467\n"
          ],
          "name": "stdout"
        }
      ]
    },
    {
      "cell_type": "markdown",
      "metadata": {
        "id": "GlpXDIfvtDPk"
      },
      "source": [
        "### **Inorder Tree Traversal | Iterative & Recursive**\n",
        "![](https://leetcode.com/articles/Figures/145_transverse.png)\n",
        "Trees are traversed in multiple ways in Depth_First_Order(Pre-Order,In-Order, and Post-Order) or Breadth_First_Order(Level Order Traversal)\n",
        "\n",
        "As We Know Tree is not a linear data-strcuture, that is from a given node there can be more then one possible way to next node.\n",
        "\n",
        "So For Tranversing the Binary Tree (non-empty) using In-Order Tranversal manner, we do three things for Every **Node N** starting from root node of the Tree -\n",
        "1. (L) Recursively Traverse the Left Subtree, After that Come Again at N\n",
        "2. (N) Process N itself also.\n",
        "3. (R) Recursively Traverse the Right Subtree, After that ome back to N.\n",
        "\n",
        "In this way we can traverse the Tree using In-Order. (Depth First Search)\n",
        "\n",
        "![Image](https://www.techiedelight.com/wp-content/uploads/Inorder-Traversal.png)"
      ]
    },
    {
      "cell_type": "code",
      "metadata": {
        "id": "BzpwVIlylAEj",
        "outputId": "cf67add7-1596-41d4-966b-967d68bd566d",
        "colab": {
          "base_uri": "https://localhost:8080/",
          "height": 35
        }
      },
      "source": [
        "#Recursive Implementation\n",
        "class Node:\n",
        "    def __init__(self, data=None, left=None, right=None):\n",
        "        self.data = data\n",
        "        self.left = left\n",
        "        self.right = right\n",
        "\n",
        "def inorder_rec(root):\n",
        "  #Return None if Tree is Empty\n",
        "\tif root is None:\n",
        "\t\treturn\n",
        "\n",
        "  #Traverse the Left Part of the Tree\n",
        "\tinorder_rec(root.left)\n",
        "\n",
        "\t#Display the Data or Number on Node\n",
        "\tprint(root.data, end=' ')\n",
        "\n",
        "\t#Traverse the right tree\n",
        "\tinorder(root.right)\n",
        " \n",
        "if __name__ == '__main__':\n",
        "  root = Node(1)\n",
        "  root.left = Node(2)\n",
        "  root.right = Node(3)\n",
        "  root.left.left = Node(10)\n",
        "  root.right.left = Node(5)\n",
        "  root.right.right = Node(11)\n",
        "  root.right.left.left = Node(7)\n",
        "  root.right.left.right = Node(8)\n",
        "\n",
        "  inorder_rec(root)"
      ],
      "execution_count": 8,
      "outputs": [
        {
          "output_type": "stream",
          "text": [
            "10 2 1 7 5 8 3 11 "
          ],
          "name": "stdout"
        }
      ]
    },
    {
      "cell_type": "code",
      "metadata": {
        "id": "lngwes1PlJJ4",
        "outputId": "66329096-d6b4-4dc8-88b9-4393c87f984e",
        "colab": {
          "base_uri": "https://localhost:8080/",
          "height": 35
        }
      },
      "source": [
        "#Iterative Implementation\n",
        "from collections import deque\n",
        "class Node:\n",
        "    def __init__(self, data=None, left=None, right=None):\n",
        "        self.data = data\n",
        "        self.left = left\n",
        "        self.right = right\n",
        "\n",
        "def inorder_itr(root):\n",
        "\n",
        "    stack = deque()\n",
        "    current = root\n",
        "    while stack or current:\n",
        "\n",
        "        # if current node is not None, push to the stack and move to its left child\n",
        "        if current:\n",
        "            stack.append(current)\n",
        "            current = current.left\n",
        "        else:\n",
        "            # else if current node is None, we pop an element from the stack,print it and move to right\n",
        "            current = stack.pop()\n",
        "            print(current.data, end=' ')\n",
        "\n",
        "            current = current.right\n",
        "\n",
        "if __name__ == '__main__':\n",
        "    root = Node(1)\n",
        "    root.left = Node(2)\n",
        "    root.right = Node(3)\n",
        "    root.left.left = Node(4)\n",
        "    root.right.left = Node(5)\n",
        "    root.right.right = Node(6)\n",
        "    root.right.left.left = Node(7)\n",
        "    root.right.left.right = Node(8)\n",
        "\n",
        "    inorder_itr(root)\n"
      ],
      "execution_count": 5,
      "outputs": [
        {
          "output_type": "stream",
          "text": [
            "4 2 1 7 5 8 3 6 "
          ],
          "name": "stdout"
        }
      ]
    },
    {
      "cell_type": "markdown",
      "metadata": {
        "id": "e12G3c-CA3Wp"
      },
      "source": [
        "### **Pre-Order Tree Traversal | Iterative & Recursive**\n",
        "\n",
        "Trees are traversed in multiple ways in Depth_First_Order(Pre-Order,In-Order, and Post-Order) or Breadth_First_Order(Level Order Traversal)\n",
        "\n",
        "As We Know Tree is not a linear data-strcuture, that is from a given node there can be more then one possible way to next node.\n",
        "\n",
        "So For Tranversing the Binary Tree (non-empty) using Pre-Order Tranversal manner, we do three things for Every **Node N** starting from root node of the Tree -\n",
        "1. (N) Process N itself also.\n",
        "2. (L) Recursively Traverse the Left Subtree, After that Come Again at N\n",
        "3. (R) Recursively Traverse the Right Subtree, After that ome back to N.\n",
        "\n",
        "In this way we can traverse the Tree using In-Order. (Depth First Search)\n",
        "\n",
        "![Image](https://www.techiedelight.com/wp-content/uploads/Preorder-Traversal.png)"
      ]
    },
    {
      "cell_type": "code",
      "metadata": {
        "id": "GRmgWt5olZwx",
        "outputId": "9f329d3a-64e9-4dad-a953-a68f4b5eaecc",
        "colab": {
          "base_uri": "https://localhost:8080/",
          "height": 35
        }
      },
      "source": [
        "#Recursive Implementation\n",
        "class Node:\n",
        "    def __init__(self, data=None, left=None, right=None):\n",
        "        self.data = data\n",
        "        self.left = left\n",
        "        self.right = right\n",
        "\n",
        "def preorder_rec(root):\n",
        "\n",
        "    if root is None:\n",
        "        return\n",
        "\n",
        "    print(root.data, end=' ')\n",
        "\n",
        "    preorder_rec(root.left)\n",
        "\n",
        "    preorder_rec(root.right)\n",
        "\n",
        "\n",
        "if __name__ == '__main__':\n",
        "\n",
        "    root = Node(1)\n",
        "    root.left = Node(11)\n",
        "    root.right = Node(6)\n",
        "    root.left.left = Node(10)\n",
        "    root.right.left = Node(5)\n",
        "    root.right.right = Node(2)\n",
        "    root.right.left.left = Node(13)\n",
        "    root.right.left.right = Node(8)\n",
        "    \n",
        "    preorder_rec(root)\n"
      ],
      "execution_count": 13,
      "outputs": [
        {
          "output_type": "stream",
          "text": [
            "1 11 10 6 5 13 8 2 "
          ],
          "name": "stdout"
        }
      ]
    },
    {
      "cell_type": "code",
      "metadata": {
        "id": "UwY3pmFOlbAC",
        "outputId": "cc2413d4-38ce-40ef-edc9-aba6d76792d4",
        "colab": {
          "base_uri": "https://localhost:8080/",
          "height": 35
        }
      },
      "source": [
        "#Iterative Implementation\n",
        "from collections import deque\n",
        "\n",
        "class Node:\n",
        "    def __init__(self, data, left=None, right=None):\n",
        "        self.data = data\n",
        "        self.left = left\n",
        "        self.right = right\n",
        "\n",
        "def preorder_itr(root):\n",
        "\n",
        "    if root is None:\n",
        "        return\n",
        "\n",
        "    stack = deque()\n",
        "    stack.append(root)\n",
        "\n",
        "    current = root\n",
        "\n",
        "    while stack:\n",
        "\n",
        "        # if current node is not None, print it and push its right child to the stack and move to its left child\n",
        "        if current:\n",
        "            print(current.data, end=' ')\n",
        "\n",
        "            if current.right:\n",
        "                stack.append(current.right)\n",
        "\n",
        "            current = current.left\n",
        "        # else if current node is None, we pop a node from the stack set current node to the popped node\n",
        "        else:\n",
        "            current = stack.pop()\n",
        "\n",
        "\n",
        "if __name__ == '__main__':\n",
        "    root = Node(1)\n",
        "    root.left = Node(11)\n",
        "    root.right = Node(6)\n",
        "    root.left.left = Node(10)\n",
        "    root.right.left = Node(5)\n",
        "    root.right.right = Node(2)\n",
        "    root.right.left.left = Node(13)\n",
        "    root.right.left.right = Node(8)\n",
        "\n",
        "    preorder_itr(root)\n"
      ],
      "execution_count": 11,
      "outputs": [
        {
          "output_type": "stream",
          "text": [
            "1 11 10 6 5 13 8 2 "
          ],
          "name": "stdout"
        }
      ]
    },
    {
      "cell_type": "markdown",
      "metadata": {
        "id": "JLURUshWEI5V"
      },
      "source": [
        "### **Pre-Order Tree Traversal | Iterative & Recursive**\n",
        "\n",
        "Trees are traversed in multiple ways in Depth_First_Order(Pre-Order,In-Order, and Post-Order) or Breadth_First_Order(Level Order Traversal)\n",
        "\n",
        "As We Know Tree is not a linear data-strcuture, that is from a given node there can be more then one possible way to next node.\n",
        "\n",
        "So For Tranversing the Binary Tree (non-empty) using Pre-Order Tranversal manner, we do three things for Every **Node N** starting from root node of the Tree -\n",
        "1. (L) Recursively Traverse the Left Subtree, After that Come Again at N\n",
        "2. (R) Recursively Traverse the Right Subtree, After that ome back to N.\n",
        "3. (N) Process N itself also.\n",
        "\n",
        "In this way we can traverse the Tree using In-Order. (Depth First Search)\n",
        "\n",
        "![Image](https://www.techiedelight.com/wp-content/uploads/Postorder-Traversal.png)"
      ]
    },
    {
      "cell_type": "code",
      "metadata": {
        "id": "wXJN8nXWCZwf",
        "outputId": "0216ebfd-bf34-4e83-dd40-7b7dfd83ad71",
        "colab": {
          "base_uri": "https://localhost:8080/",
          "height": 35
        }
      },
      "source": [
        "#Recursive Implementation\n",
        "class Node:\n",
        "    def __init__(self, data=None, left=None, right=None):\n",
        "        self.data = data\n",
        "        self.left = left\n",
        "        self.right = right\n",
        "\n",
        "def postorder(root):\n",
        "    if root is None:\n",
        "        return\n",
        "\n",
        "    postorder(root.left)\n",
        "\n",
        "    postorder(root.right)\n",
        "\n",
        "    print(root.data, end=' ')\n",
        "\n",
        "\n",
        "if __name__ == '__main__':\n",
        "    root = Node(1)\n",
        "    root.left = Node(11)\n",
        "    root.right = Node(6)\n",
        "    root.left.left = Node(10)\n",
        "    root.right.left = Node(5)\n",
        "    root.right.right = Node(2)\n",
        "    root.right.left.left = Node(13)\n",
        "    root.right.left.right = Node(8)\n",
        "\n",
        "    postorder_rec(root)\n"
      ],
      "execution_count": 17,
      "outputs": [
        {
          "output_type": "stream",
          "text": [
            "10 11 13 8 5 2 6 1 "
          ],
          "name": "stdout"
        }
      ]
    },
    {
      "cell_type": "code",
      "metadata": {
        "id": "wsHEV5_DEmKh",
        "outputId": "08a38f09-9081-42a5-9069-4cefc468ed06",
        "colab": {
          "base_uri": "https://localhost:8080/",
          "height": 35
        }
      },
      "source": [
        "#Iterative Implementation\n",
        "from collections import deque\n",
        "class Node:\n",
        "    def __init__(self, key):\n",
        "        self.data = key\n",
        "        self.left = self.right = None\n",
        "\n",
        "def postorderIterative(root):\n",
        "\n",
        "    stack = deque()\n",
        "    stack.append(root)\n",
        "\n",
        "    out = deque()\n",
        "\n",
        "    while stack:\n",
        "\n",
        "        current = stack.pop()\n",
        "        out.append(current.data)\n",
        "\n",
        "        if current.left:\n",
        "            stack.append(current.left)\n",
        "\n",
        "        if current.right:\n",
        "            stack.append(current.right)\n",
        "\n",
        "    while out:\n",
        "        print(out.pop(), end=' ')\n",
        "\n",
        "\n",
        "if __name__ == '__main__':\n",
        "    root = Node(1)\n",
        "    root.left = Node(11)\n",
        "    root.right = Node(6)\n",
        "    root.left.left = Node(10)\n",
        "    root.right.left = Node(5)\n",
        "    root.right.right = Node(2)\n",
        "    root.right.left.left = Node(13)\n",
        "    root.right.left.right = Node(8)\n",
        "\n",
        "    postorderIterative(root)\n",
        "\n"
      ],
      "execution_count": 18,
      "outputs": [
        {
          "output_type": "stream",
          "text": [
            "10 11 13 8 5 2 6 1 "
          ],
          "name": "stdout"
        }
      ]
    },
    {
      "cell_type": "code",
      "metadata": {
        "id": "yB-Ay0AuFLTQ"
      },
      "source": [
        "#Delete without head pointer\n",
        "def deleteNode(curr_node):\n",
        "    temp = curr_node.next\n",
        "    curr_node.data = temp.data \n",
        "    curr_node.next = temp.next"
      ],
      "execution_count": 19,
      "outputs": []
    },
    {
      "cell_type": "code",
      "metadata": {
        "id": "fAdccY2RJE8n"
      },
      "source": [
        ""
      ],
      "execution_count": null,
      "outputs": []
    }
  ]
}